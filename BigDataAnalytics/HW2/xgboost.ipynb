{
 "cells": [
  {
   "cell_type": "code",
   "execution_count": 1,
   "metadata": {
    "collapsed": true
   },
   "outputs": [],
   "source": [
    "from numpy import genfromtxt\n",
    "\n",
    "train = 'Microsoft-Malware-Challenge/Dataset/train/LargeTrain.csv'\n",
    "test = 'Microsoft-Malware-Challenge/Dataset/test/LargeTest.csv'\n",
    "\n",
    "\n",
    "ori_train_data = genfromtxt(train, delimiter=',')\n",
    "ori_test_data = genfromtxt(test, delimiter=',')"
   ]
  },
  {
   "cell_type": "code",
   "execution_count": 2,
   "metadata": {
    "collapsed": true
   },
   "outputs": [],
   "source": [
    "import numpy as np\n",
    "\n",
    "worst_label_index = 692\n",
    "row_length = len(ori_train_data[0])\n",
    "\n",
    "data = np.ndarray(shape=(len(ori_train_data), row_length - 1), dtype=float, order='C')\n",
    "\n",
    "f_train = []\n",
    "f_test = []\n",
    "\n",
    "\n",
    "for i, v in enumerate(ori_train_data):\n",
    "    if i == 0: continue # skip csv header (list of NaN)\n",
    "    data[i] = np.delete(v, len(ori_train_data[i]) - 1)\n",
    "    f_train.append(v[worst_label_index])\n",
    "\n",
    "for i in ori_test_data:\n",
    "    f_test.append(i[worst_label_index])\n",
    "\n",
    "f_train.sort()\n",
    "f_test.sort()"
   ]
  },
  {
   "cell_type": "code",
   "execution_count": 4,
   "metadata": {},
   "outputs": [],
   "source": [
    "import xgboost as xgb\n",
    "\n",
    "labels = np.zeros(len(ori_train_data))\n",
    "\n",
    "midpoint = len(f_train) / 2\n",
    "\n",
    "for i in range(len(data)):\n",
    "    if data[i][worst_label_index] > f_train[midpoint]:\n",
    "        labels[i] = 1 \n",
    "\n",
    "dtrain = xgb.DMatrix(data, label=labels)\n",
    "dtest = xgb.DMatrix(ori_test_data,label=labels)"
   ]
  },
  {
   "cell_type": "code",
   "execution_count": 5,
   "metadata": {},
   "outputs": [
    {
     "name": "stdout",
     "output_type": "stream",
     "text": [
      "Fitting 5 folds for each of 20 candidates, totalling 100 fits\n"
     ]
    },
    {
     "name": "stderr",
     "output_type": "stream",
     "text": [
      "[Parallel(n_jobs=8)]: Done  34 tasks      | elapsed:   36.0s\n"
     ]
    },
    {
     "name": "stdout",
     "output_type": "stream",
     "text": [
      "('mean_train_score', 'std_train_score', 'mean_test_score', 'std_test_score')\n",
      "(0.95799920245493608, 0.012252417168720201, 0.93202598302985606, 0.023303578091377387)\n",
      "(0.99993365216226737, 3.1767479445436121e-05, 0.99971700985428313, 0.0001740952345672047)\n",
      "(0.99994481749016584, 3.105063099646885e-05, 0.99972615779830876, 0.00015901444120170412)\n",
      "(0.99991147975527339, 5.0960205688567171e-05, 0.99956446049826242, 0.00022711505535111481)\n",
      "(0.99989387351875292, 5.8181837363916763e-05, 0.99945101158613314, 0.00028638991638528993)\n",
      "(0.99999600599264116, 3.7565574661965068e-06, 0.99992567140239808, 4.819549363334785e-05)\n",
      "(1.0, 7.0216669371534022e-17, 0.99998826390564177, 1.1951453502109066e-05)\n",
      "(0.99999975546893727, 3.2604141706471525e-07, 0.99997913583225206, 1.8162764342083207e-05)\n",
      "(1.0, 4.9650683064945459e-17, 1.0, 0.0)\n",
      "(1.0, 4.9650683064945459e-17, 1.0, 0.0)\n",
      "(1.0, 4.9650683064945459e-17, 1.0, 0.0)\n",
      "(1.0, 0.0, 1.0, 0.0)\n",
      "(1.0, 0.0, 1.0, 0.0)\n",
      "(1.0, 0.0, 1.0, 0.0)\n",
      "(1.0, 0.0, 1.0, 0.0)\n",
      "(1.0, 4.9650683064945459e-17, 1.0, 0.0)\n",
      "(1.0, 4.9650683064945459e-17, 1.0, 0.0)\n",
      "(0.99999999999999978, 1.3136335981433191e-16, 1.0, 4.9650683064945459e-17)\n",
      "(1.0, 4.9650683064945459e-17, 1.0, 4.9650683064945459e-17)\n",
      "(1.0, 4.9650683064945459e-17, 1.0, 0.0)\n"
     ]
    },
    {
     "name": "stderr",
     "output_type": "stream",
     "text": [
      "[Parallel(n_jobs=8)]: Done 100 out of 100 | elapsed:  2.6min finished\n"
     ]
    }
   ],
   "source": [
    "from sklearn.model_selection import GridSearchCV\n",
    "from xgboost.sklearn import XGBClassifier\n",
    "from sklearn.model_selection import StratifiedKFold\n",
    "\n",
    "skf_inner = StratifiedKFold(n_splits=5, random_state=5, shuffle=True)\n",
    "\n",
    "xgboost_param = {\n",
    "    'max_depth':10,\n",
    "    'min_child_weight':5,\n",
    "    'learning_rate':0.4,\n",
    "    'colsample_bytree':0.6,\n",
    "    'subsample':0.9,\n",
    "    'gamma':0,\n",
    "    'max_delta_step':0,\n",
    "    'colsample_bylevel':1,\n",
    "    'reg_alpha':0,\n",
    "    'reg_lambda':1,\n",
    "    'scale_pos_weight':1,\n",
    "    'base_score':0.6,\n",
    "    'random_state':5,\n",
    "    'objective':'binary:logistic',\n",
    "    'silent': 1\n",
    "}\n",
    "\n",
    "bst_grid = GridSearchCV(estimator=XGBClassifier(**xgboost_param),\n",
    "                        param_grid={\n",
    "                            'n_estimators':np.linspace(1, 20, 20).astype('int')\n",
    "                        }, n_jobs=8, cv=skf_inner, scoring='roc_auc', iid=False,\n",
    "                        refit=False, verbose=1)\n",
    "\n",
    "import warnings\n",
    "\n",
    "with warnings.catch_warnings():\n",
    "    warnings.filterwarnings(\"ignore\", category=DeprecationWarning) # stop DeprecationWarning\n",
    "    bst_grid.fit(data, labels)\n",
    "\n",
    "best_params_grid_search = bst_grid.best_params_\n",
    "best_score_grid_search = bst_grid.best_score_\n",
    "\n",
    "COLUMNS = ('mean_train_score', 'std_train_score', 'mean_test_score', 'std_test_score')\n",
    "\n",
    "rows = list(zip(*map(lambda key: bst_grid.cv_results_[key], COLUMNS)))\n",
    "\n",
    "print(COLUMNS)\n",
    "for row in rows:\n",
    "    print(row)"
   ]
  },
  {
   "cell_type": "code",
   "execution_count": 15,
   "metadata": {},
   "outputs": [
    {
     "data": {
      "image/png": "[encoded data removed]",
      "text/plain": [
       "<matplotlib.figure.Figure at 0x7f0137688110>"
      ]
     },
     "metadata": {},
     "output_type": "display_data"
    },
    {
     "data": {
      "image/png": "[encoded data removed]",
      "text/plain": [
       "<matplotlib.figure.Figure at 0x7f0133b1cc90>"
      ]
     },
     "metadata": {},
     "output_type": "display_data"
    }
   ],
   "source": [
    "import pandas as pd\n",
    "import seaborn\n",
    "import warnings\n",
    "\n",
    "with warnings.catch_warnings():\n",
    "    warnings.filterwarnings(\"ignore\", category=DeprecationWarning) # stop DeprecationWarning\n",
    "\n",
    "    df = pd.DataFrame(rows)\n",
    "    df.columns = ('test-auc-mean', 'test-auc-std', 'train-auc-mean', 'train-auc-std')\n",
    "\n",
    "    source_perf = pd.pivot_table(df[['test-auc-mean', 'test-auc-std', 'train-auc-mean', 'train-auc-std']], columns=['train-auc-mean'], index=['test-auc-mean'])\n",
    "    seaborn.heatmap(np.array(source_perf))\n",
    "    seaborn.plt.show()\n",
    "\n",
    "    target_perf = pd.pivot_table(df[['test-auc-mean', 'test-auc-std', 'train-auc-mean', 'train-auc-std']], columns=['train-auc-std'], index=['test-auc-std'])\n",
    "    seaborn.heatmap(np.array(target_perf))\n",
    "    seaborn.plt.show()"
   ]
  }
 ],
 "metadata": {
  "kernelspec": {
   "display_name": "Python 2",
   "language": "python",
   "name": "python2"
  },
  "language_info": {
   "codemirror_mode": {
    "name": "ipython",
    "version": 2
   },
   "file_extension": ".py",
   "mimetype": "text/x-python",
   "name": "python",
   "nbconvert_exporter": "python",
   "pygments_lexer": "ipython2",
   "version": "2.7.12"
  }
 },
 "nbformat": 4,
 "nbformat_minor": 2
}
